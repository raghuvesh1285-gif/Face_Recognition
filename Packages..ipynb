# Installing packages
!pip install opencv-python face-recognition pillow numpy matplotlib scikit-learn
!pip install mtcnn tensorflow

import cv2
import numpy as np
import os
import face_recognition
from PIL import Image
import matplotlib.pyplot as plt
from sklearn.svm import SVC
from sklearn.model_selection import train_test_split
from sklearn.metrics import accuracy_score, classification_report
import pickle
import json
from google.colab import files
from google.colab.patches import cv2_imshow
import zipfile
