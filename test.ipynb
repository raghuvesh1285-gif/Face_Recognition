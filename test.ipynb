# Face Recognition System with Google Drive Integration
# Complete implementation with persistent storage and webcam access

# Step 1: Mount Google Drive
from google.colab import drive
drive.mount('/content/drive')

# Step 2: Install required packages
!pip install opencv-python face-recognition numpy Pillow

# Step 3: Import libraries
import cv2
import face_recognition
import numpy as np
import os
import pickle
import json
from datetime import datetime
from IPython.display import display, Javascript, Image
from google.colab.output import eval_js
from base64 import b64decode, b64encode
import PIL
from io import BytesIO
import shutil

# Step 4: Setup Drive paths
DRIVE_PATH = '/content/drive/MyDrive/FaceRecognition'
ENCODINGS_PATH = f'{DRIVE_PATH}/face_encodings.pkl'
DATABASE_PATH = f'{DRIVE_PATH}/face_database.json'
IMAGES_PATH = f'{DRIVE_PATH}/known_faces'
RESULTS_PATH = f'{DRIVE_PATH}/recognition_results'

# Create directories if they don't exist
os.makedirs(DRIVE_PATH, exist_ok=True)
os.makedirs(IMAGES_PATH, exist_ok=True)
os.makedirs(RESULTS_PATH, exist_ok=True)

print(f"✅ Google Drive mounted successfully!")
print(f"📁 Working directory: {DRIVE_PATH}")

# Step 5: Webcam capture function
def take_photo(filename='photo.jpg', quality=0.8):
    """Take photo using webcam and save to Drive"""
    js = Javascript('''
    async function takePhoto(quality) {
        const div = document.createElement('div');
        const capture = document.createElement('button');
        capture.textContent = 'Take Photo';
        capture.style.background = '#4285f4';
        capture.style.color = 'white';
        capture.style.border = 'none';
        capture.style.padding = '10px 20px';
        capture.style.fontSize = '16px';
        capture.style.cursor = 'pointer';
        div.appendChild(capture);

        const video = document.createElement('video');
        video.style.display = 'block';
        video.style.width = '640px';
        video.style.height = '480px';
        const stream = await navigator.mediaDevices.getUserMedia({video: true});

        document.body.appendChild(div);
        div.appendChild(video);
        video.srcObject = stream;
        await video.play();

        google.colab.output.setIframeHeight(document.documentElement.scrollHeight, true);

        await new Promise((resolve) => capture.onclick = resolve);

        const canvas = document.createElement('canvas');
        canvas.width = video.videoWidth;
        canvas.height = video.videoHeight;
        canvas.getContext('2d').drawImage(video, 0, 0);
        stream.getVideoTracks()[0].stop();
        div.remove();
        return canvas.toDataURL('image/jpeg', quality);
    }
    ''')
    display(js)
    data = eval_js('takePhoto({})'.format(quality))
    binary = b64decode(data.split(',')[1])
    
    with open(filename, 'wb') as f:
        f.write(binary)
    
    return filename

# Step 6: Drive-integrated Face Recognition System
class DriveIntegratedFaceRecognition:
    def __init__(self):
        self.known_face_encodings = []
        self.known_face_names = []
        self.face_database = {}
        self.tolerance = 0.6
        self.load_database()
        self.load_encodings()
        
    def load_database(self):
        """Load face database from Google Drive"""
        try:
            if os.path.exists(DATABASE_PATH):
                with open(DATABASE_PATH, 'r') as f:
                    self.face_database = json.load(f)
                print(f"📊 Loaded {len(self.face_database)} faces from database")
            else:
                self.face_database = {}
                print("📊 Created new face database")
        except Exception as e:
            print(f"❌ Error loading database: {e}")
            self.face_database = {}
    
    def save_database(self):
        """Save face database to Google Drive"""
        try:
            with open(DATABASE_PATH, 'w') as f:
                json.dump(self.face_database, f, indent=2, default=str)
            print("💾 Database saved to Google Drive")
        except Exception as e:
            print(f"❌ Error saving database: {e}")
    
    def load_encodings(self):
        """Load face encodings from Google Drive"""
        try:
            if os.path.exists(ENCODINGS_PATH):
                with open(ENCODINGS_PATH, 'rb') as f:
                    data = pickle.load(f)
                    self.known_face_encodings = data['encodings']
                    self.known_face_names = data['names']
                print(f"🔐 Loaded {len(self.known_face_encodings)} face encodings")
            else:
                self.known_face_encodings = []
                self.known_face_names = []
                print("🔐 No existing encodings found")
        except Exception as e:
            print(f"❌ Error loading encodings: {e}")
            self.known_face_encodings = []
            self.known_face_names = []
    
    def save_encodings(self):
        """Save face encodings to Google Drive"""
        try:
            data = {
                'encodings': self.known_face_encodings,
                'names': self.known_face_names
            }
            with open(ENCODINGS_PATH, 'wb') as f:
                pickle.dump(data, f)
            print("💾 Encodings saved to Google Drive")
        except Exception as e:
            print(f"❌ Error saving encodings: {e}")
    
    def add_face_from_webcam(self, name):
        """Capture face from webcam and add to Drive database"""
        print(f"📸 Taking photo for {name}...")
        
        # Take photo
        temp_filename = f'temp_{name}.jpg'
        photo_path = take_photo(temp_filename)
        
        # Process and save to Drive
        drive_image_path = f'{IMAGES_PATH}/{name}_{datetime.now().strftime("%Y%m%d_%H%M%S")}.jpg'
        shutil.move(photo_path, drive_image_path)
        
        success = self.add_known_face(drive_image_path, name)
        
        if success:
            print(f"✅ {name} added successfully!")
            print(f"📁 Image saved: {drive_image_path}")
            display(Image(drive_image_path))
        
        return success
    
    def add_known_face(self, image_path, name):
        """Add known face to the system"""
        try:
            # Load and process image
            image = face_recognition.load_image_file(image_path)
            face_encodings = face_recognition.face_encodings(image)
            
            if len(face_encodings) > 0:
                face_encoding = face_encodings[0]
                
                # Add to memory
                self.known_face_encodings.append(face_encoding)
                self.known_face_names.append(name)
                
                # Update database
                face_id = len(self.face_database) + 1
                self.face_database[str(face_id)] = {
                    'name': name,
                    'image_path': image_path,
                    'added_date': datetime.now().isoformat(),
                    'encoding_index': len(self.known_face_encodings) - 1
                }
                
                # Save to Drive
                self.save_encodings()
                self.save_database()
                
                print(f"✅ Added {name} (ID: {face_id})")
                return True
            else:
                print(f"❌ No face detected in image")
                return False
                
        except Exception as e:
            print(f"❌ Error adding face: {e}")
            return False
    
    def recognize_faces(self, image_path):
        """Recognize faces in image"""
        try:
            image = face_recognition.load_image_file(image_path)
            rgb_image = cv2.cvtColor(image, cv2.COLOR_BGR2RGB)
            
            face_locations = face_recognition.face_locations(rgb_image)
            face_encodings = face_recognition.face_encodings(rgb_image, face_locations)
            
            recognized_faces = []
            
            for (top, right, bottom, left), face_encoding in zip(face_locations, face_encodings):
                matches = face_recognition.compare_faces(self.known_face_encodings, face_encoding, self.tolerance)
                name = "Unknown"
                confidence = 0.0
                
                if True in matches:
                    face_distances = face_recognition.face_distance(self.known_face_encodings, face_encoding)
                    best_match_index = np.argmin(face_distances)
                    if matches[best_match_index]:
                        name = self.known_face_names[best_match_index]
                        confidence = 1 - face_distances[best_match_index]
                
                recognized_faces.append({
                    'name': name,
                    'location': (top, right, bottom, left),
                    'confidence': confidence,
                    'timestamp': datetime.now().isoformat()
                })
            
            return recognized_faces, rgb_image
            
        except Exception as e:
            print(f"❌ Error recognizing faces: {e}")
            return [], None
    
    def draw_results(self, image, recognized_faces):
        """Draw bounding boxes and labels"""
        image_with_boxes = image.copy()
        
        for face in recognized_faces:
            top, right, bottom, left = face['location']
            name = face['name']
            confidence = face['confidence']
            
            # Choose color
            color = (0, 255, 0) if name != "Unknown" else (255, 0, 0)
            
            # Draw rectangle
            cv2.rectangle(image_with_boxes, (left, top), (right, bottom), color, 2)
            
            # Prepare label
            if name != "Unknown":
                label = f"{name} ({confidence:.2f})"
            else:
                label = "Unknown"
            
            # Draw label background
            cv2.rectangle(image_with_boxes, (left, bottom - 35), (right, bottom), color, cv2.FILLED)
            
            # Draw label text
            cv2.putText(image_with_boxes, label, (left + 6, bottom - 6), 
                       cv2.FONT_HERSHEY_DUPLEX, 0.6, (255, 255, 255), 1)
        
        return image_with_boxes
    
    def test_recognition(self):
        """Test recognition with webcam photo"""
        print("📸 Taking photo for recognition test...")
        temp_filename = 'test_photo.jpg'
        photo_path = take_photo(temp_filename)
        
        recognized_faces, rgb_image = self.recognize_faces(photo_path)
        
        if rgb_image is not None and len(recognized_faces) > 0:
            # Draw results
            result_image = self.draw_results(rgb_image, recognized_faces)
            
            # Save to Drive
            timestamp = datetime.now().strftime("%Y%m%d_%H%M%S")
            result_path = f'{RESULTS_PATH}/result_{timestamp}.jpg'
            PIL.Image.fromarray(result_image).save(result_path)
            
            # Display result
            display(Image(result_path))
            
            # Print results
            print(f"🎯 Recognition Results ({len(recognized_faces)} faces):")
            for i, face in enumerate(recognized_faces, 1):
                print(f"  {i}. {face['name']} (Confidence: {face['confidence']:.2f})")
            
            # Save recognition log
            self.save_recognition_log(recognized_faces, result_path)
            
        else:
            print("❌ No faces detected")
        
        # Clean up temp file
        if os.path.exists(photo_path):
            os.remove(photo_path)
    
    def list_known_faces(self):
        """List all known faces in database"""
        print(f"👥 Known Faces Database ({len(self.face_database)} entries):")
        print("-" * 50)
        
        for face_id, data in self.face_database.items():
            print(f"ID: {face_id}")
            print(f"  Name: {data['name']}")
            print(f"  Added: {data['added_date']}")
            print(f"  Image: {data['image_path']}")
            print()
    
    def batch_add_from_drive_folder(self, folder_path):
        """Add all faces from a Drive folder"""
        print(f"📁 Processing folder: {folder_path}")
        
        if not os.path.exists(folder_path):
            print(f"❌ Folder not found: {folder_path}")
            return
        
        image_extensions = ('.jpg', '.jpeg', '.png', '.bmp')
        added_count = 0
        
        for filename in os.listdir(folder_path):
            if filename.lower().endswith(image_extensions):
                name = os.path.splitext(filename)[0]
                image_path = os.path.join(folder_path, filename)
                
                if self.add_known_face(image_path, name):
                    added_count += 1
        
        print(f"✅ Added {added_count} faces from folder")

# Initialize the system
print("🚀 Initializing Drive-Integrated Face Recognition System...")
face_system = DriveIntegratedFaceRecognition()

print("\n" + "="*60)
print("🎉 GOOGLE DRIVE FACE RECOGNITION SYSTEM READY!")
print("="*60)

print("\n📋 Available Commands:")
print("1️⃣  face_system.add_face_from_webcam('Name')     # Add face using webcam")
print("2️⃣  face_system.test_recognition()               # Test recognition")
print("3️⃣  face_system.list_known_faces()              # View database")
print("4️⃣  face_system.batch_add_from_drive_folder()   # Batch add from folder")

print(f"\n📁 Your files are stored in: {DRIVE_PATH}")
print("   ├── face_encodings.pkl      (Face encodings)")
print("   ├── face_database.json      (Face database)")  
print("   ├── known_faces/            (Face images)")
print("   └── recognition_results/    (Test results)")

print("\n🎯 Quick Start:")
print("   face_system.add_face_from_webcam('John')")
print("   face_system.test_recognition()")
